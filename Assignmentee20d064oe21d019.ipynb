{
  "cells": [
    {
      "cell_type": "markdown",
      "metadata": {
        "id": "view-in-github",
        "colab_type": "text"
      },
      "source": [
        "<a href=\"https://colab.research.google.com/github/AnandVP123/q1/blob/main/Assignmentee20d064oe21d019.ipynb\" target=\"_parent\"><img src=\"https://colab.research.google.com/assets/colab-badge.svg\" alt=\"Open In Colab\"/></a>"
      ]
    },
    {
      "cell_type": "markdown",
      "source": [
        ""
      ],
      "metadata": {
        "id": "XUJVyZ7utkI8"
      }
    },
    {
      "cell_type": "code",
      "execution_count": 2,
      "metadata": {
        "colab": {
          "base_uri": "https://localhost:8080/"
        },
        "id": "duxiEurVNypu",
        "outputId": "18880ad3-bcde-42af-e475-740ac1b86100"
      },
      "outputs": [
        {
          "output_type": "stream",
          "name": "stdout",
          "text": [
            "Requirement already satisfied: Wandb in /usr/local/lib/python3.7/dist-packages (0.12.10)\n",
            "Requirement already satisfied: shortuuid>=0.5.0 in /usr/local/lib/python3.7/dist-packages (from Wandb) (1.0.8)\n",
            "Requirement already satisfied: six>=1.13.0 in /usr/local/lib/python3.7/dist-packages (from Wandb) (1.15.0)\n",
            "Requirement already satisfied: GitPython>=1.0.0 in /usr/local/lib/python3.7/dist-packages (from Wandb) (3.1.27)\n",
            "Requirement already satisfied: psutil>=5.0.0 in /usr/local/lib/python3.7/dist-packages (from Wandb) (5.4.8)\n",
            "Requirement already satisfied: Click!=8.0.0,>=7.0 in /usr/local/lib/python3.7/dist-packages (from Wandb) (7.1.2)\n",
            "Requirement already satisfied: pathtools in /usr/local/lib/python3.7/dist-packages (from Wandb) (0.1.2)\n",
            "Requirement already satisfied: PyYAML in /usr/local/lib/python3.7/dist-packages (from Wandb) (3.13)\n",
            "Requirement already satisfied: docker-pycreds>=0.4.0 in /usr/local/lib/python3.7/dist-packages (from Wandb) (0.4.0)\n",
            "Requirement already satisfied: protobuf>=3.12.0 in /usr/local/lib/python3.7/dist-packages (from Wandb) (3.17.3)\n",
            "Requirement already satisfied: yaspin>=1.0.0 in /usr/local/lib/python3.7/dist-packages (from Wandb) (2.1.0)\n",
            "Requirement already satisfied: requests<3,>=2.0.0 in /usr/local/lib/python3.7/dist-packages (from Wandb) (2.23.0)\n",
            "Requirement already satisfied: promise<3,>=2.0 in /usr/local/lib/python3.7/dist-packages (from Wandb) (2.3)\n",
            "Requirement already satisfied: python-dateutil>=2.6.1 in /usr/local/lib/python3.7/dist-packages (from Wandb) (2.8.2)\n",
            "Requirement already satisfied: sentry-sdk>=1.0.0 in /usr/local/lib/python3.7/dist-packages (from Wandb) (1.5.6)\n",
            "Requirement already satisfied: gitdb<5,>=4.0.1 in /usr/local/lib/python3.7/dist-packages (from GitPython>=1.0.0->Wandb) (4.0.9)\n",
            "Requirement already satisfied: typing-extensions>=3.7.4.3 in /usr/local/lib/python3.7/dist-packages (from GitPython>=1.0.0->Wandb) (3.10.0.2)\n",
            "Requirement already satisfied: smmap<6,>=3.0.1 in /usr/local/lib/python3.7/dist-packages (from gitdb<5,>=4.0.1->GitPython>=1.0.0->Wandb) (5.0.0)\n",
            "Requirement already satisfied: urllib3!=1.25.0,!=1.25.1,<1.26,>=1.21.1 in /usr/local/lib/python3.7/dist-packages (from requests<3,>=2.0.0->Wandb) (1.24.3)\n",
            "Requirement already satisfied: chardet<4,>=3.0.2 in /usr/local/lib/python3.7/dist-packages (from requests<3,>=2.0.0->Wandb) (3.0.4)\n",
            "Requirement already satisfied: idna<3,>=2.5 in /usr/local/lib/python3.7/dist-packages (from requests<3,>=2.0.0->Wandb) (2.10)\n",
            "Requirement already satisfied: certifi>=2017.4.17 in /usr/local/lib/python3.7/dist-packages (from requests<3,>=2.0.0->Wandb) (2021.10.8)\n",
            "Requirement already satisfied: termcolor<2.0.0,>=1.1.0 in /usr/local/lib/python3.7/dist-packages (from yaspin>=1.0.0->Wandb) (1.1.0)\n"
          ]
        }
      ],
      "source": [
        "pip install Wandb\n"
      ]
    },
    {
      "cell_type": "code",
      "execution_count": null,
      "metadata": {
        "id": "Nxw67OTlOKJ3"
      },
      "outputs": [],
      "source": [
        "import numpy as np\n",
        "import matplotlib.pyplot as plt\n",
        "from keras.datasets import fashion_mnist\n",
        "from keras.datasets import mnist\n",
        "import wandb\n",
        "\n",
        "# load dataset\n",
        "(x_train, y_train), (x_test, y_test) = fashion_mnist.load_data()\n",
        "class_type = ['T-shirt/top', 'Trouser', 'Pullover', 'Dress', 'Coat','Sandal', 'Shirt', 'Sneaker', 'Bag', 'Ankle boot'] \n",
        "\n",
        "proj_name='CS6910_ass1'\n",
        "\n",
        "\n",
        "\n"
      ]
    },
    {
      "cell_type": "code",
      "execution_count": null,
      "metadata": {
        "colab": {
          "base_uri": "https://localhost:8080/",
          "height": 321
        },
        "id": "Cb6VNgmDWJmL",
        "outputId": "1679613d-8ecb-4857-a8f8-3ac790cab2c6",
        "collapsed": true
      },
      "outputs": [
        {
          "output_type": "stream",
          "name": "stdout",
          "text": [
            "Sample Images for each Class :\n"
          ]
        },
        {
          "output_type": "stream",
          "name": "stderr",
          "text": [
            "\u001b[34m\u001b[1mwandb\u001b[0m: Currently logged in as: \u001b[33moe21d019\u001b[0m (use `wandb login --relogin` to force relogin)\n"
          ]
        },
        {
          "output_type": "display_data",
          "data": {
            "text/html": [
              "\n",
              "                    Syncing run <strong><a href=\"https://wandb.ai/oe21d019/CS6910_ass1/runs/gre0um6s\" target=\"_blank\">deep-cherry-73</a></strong> to <a href=\"https://wandb.ai/oe21d019/CS6910_ass1\" target=\"_blank\">Weights & Biases</a> (<a href=\"https://docs.wandb.com/integrations/jupyter.html\" target=\"_blank\">docs</a>).<br/>\n",
              "\n",
              "                "
            ],
            "text/plain": [
              "<IPython.core.display.HTML object>"
            ]
          },
          "metadata": {}
        },
        {
          "output_type": "display_data",
          "data": {
            "image/png": "[encoded data removed]",
            "text/plain": [
              "<Figure size 432x288 with 10 Axes>"
            ]
          },
          "metadata": {
            "needs_background": "light"
          }
        }
      ],
      "source": [
        "\n",
        "\n",
        "print(\"Sample Images for each Class :\")\n",
        "class_list=list()\n",
        "wandb.init(project=proj_name)\n",
        "for i in range(10):\n",
        "  plt.subplot(2,5,i+1)\n",
        "  for j in range(len(y_train)):\n",
        "    if y_train[j] == i :\n",
        "        wandb.log({\"img\": [wandb.Image(x_train[j], caption=class_type[y_train[j]])]})\n",
        "        class_list.append(class_type[y_train[j]])\n",
        "        break    "
      ]
    },
    {
      "cell_type": "code",
      "execution_count": null,
      "metadata": {
        "id": "b5nwPsmBRClF"
      },
      "outputs": [],
      "source": [
        "def activate(x,activation):                                                           # Hidden layer activation function                                  \n",
        "\n",
        "  if activation == \"sigmoid\":\n",
        "    return 1/(1 + np.exp(-x))\n",
        "\n",
        "  elif activation == \"tanh\": \n",
        "    return np.tanh(x) \n",
        "\n",
        "  elif activation == \"relu\": \n",
        "    return x * (x > 0) \n",
        "\n",
        "def softmax(x):                                                                       # Output activation function\n",
        "    return np.exp(x) / np.sum(np.exp(x)) \n",
        "\n",
        "def feed_forward(x,parameters,sizes,activation):                                # feed-forward data through the network to estimate output\n",
        "  \n",
        "  H = {}\n",
        "  A={}\n",
        "  H[0] = x\n",
        " \n",
        "  for i in range(1,len(sizes)-1):\n",
        "    W = parameters[\"W\"+str(i)]\n",
        "    b = parameters[\"b\"+str(i)]\n",
        "    A[i] = np.dot(W,H[i-1])+b\n",
        "    H[i] = activate(A[i],activation)\n",
        "    \n",
        "  W = parameters[\"W\"+str(len(sizes)-1)]\n",
        "  b = parameters[\"b\"+str(len(sizes)-1)]\n",
        "  A[len(sizes)-1] = np.dot(W,H[len(sizes)-2])+b\n",
        "  #print(\"A:\",A[2],\"H:\",H[3],len(sizes))\n",
        "\n",
        "  y_hat = softmax(A[len(sizes)-1])\n",
        "  #print(y_hat)\n",
        "  \n",
        "  return y_hat,A,H\n",
        "\n",
        "def loss_compute(y,y_hat,parameters,loss_type,reg,sizes):                                               # function to compute the loss/error (both squared error and cross entropy)\n",
        "\n",
        "  if (loss_type == \"squared_error\"):\n",
        "    error = np.sum((y-y_hat)**2)/(2*len(y))\n",
        "  elif (loss_type == \"cross_entropy\") :\n",
        "    error = -1*np.sum(np.multiply(y,np.log(y_hat)))/len(y)\n",
        "\t\t\n",
        "  reg_error = 0.0                                                                        # account for regularization to avoid overfit of data - L2 norm regularization\n",
        "  for i in range(1,len(sizes)) :\n",
        "    reg_error = reg_error + (reg/2)*(np.sum(np.square(parameters[\"W\"+str(i)]))) \n",
        "  error = error + reg_error\n",
        "\n",
        "  return error"
      ]
    },
    {
      "cell_type": "code",
      "execution_count": null,
      "metadata": {
        "id": "mip931SPRGnA"
      },
      "outputs": [],
      "source": [
        "def derivative(x,activation):                                                            # function to compute the derivative of hidden layer activation fn\n",
        "\n",
        "  if activation == \"sigmoid\":\n",
        "    return activate(x,\"sigmoid\")*(1-activate(x,\"sigmoid\"))\n",
        "  elif activation == \"tanh\": \n",
        "    return 1. - x * x \n",
        "  elif activation == \"relu\": \n",
        "    return 1. * (x > 0)\n",
        "\n",
        "def grad_init(sizes):\n",
        "  \n",
        "  grads={}\n",
        "  layers=len(sizes)\n",
        "  for i in range(1,layers):\n",
        "    grads[\"dW\" + str(i)] = np.zeros((sizes[i], sizes[i-1]))\n",
        "    grads[\"db\" + str(i)] = np.zeros((sizes[i],1))\n",
        "\n",
        "  return grads  \n",
        "\n",
        "\n",
        "def back_prop(X,Y,Y_hat,prev_grad,A,H,parameters,sizes,loss_type,activation,reg) :               # back-propogation rule to compute the gradients of activation, pre-activation and parameters\n",
        "  \n",
        "  new_grad = {}\n",
        "  grads = {}\n",
        "  # grads = {\"dH0\":np.zeros((input_size,1)),\"dA0\":np.zeros((input_size,1))}\n",
        "  for i in range(1,len(sizes)):\n",
        "    grads[\"dW\" + str(i)] = np.zeros((sizes[i], sizes[i-1]))\n",
        "    grads[\"db\" + str(i)] = np.zeros((sizes[i],1))\n",
        "    grads[\"dA\" + str(i)] = np.zeros((sizes[i],1))\n",
        "    grads[\"dH\" + str(i)] = np.zeros((sizes[i],1))\n",
        "\n",
        "  if loss_type == \"squared_error\":\n",
        "    grads[\"dH\"+str(len(sizes)-1)] = (Y_hat-Y) \n",
        "    grads[\"dA\"+str(len(sizes)-1)] = (Y_hat - Y)*Y_hat - Y_hat*(np.dot(np.transpose((Y_hat-Y)), Y_hat))\n",
        "\n",
        "  elif loss_type==\"cross_entropy\" :\n",
        "    grads[\"dH\"+str(len(sizes)-1)] = -(Y/Y_hat) \n",
        "    grads[\"dA\"+str(len(sizes)-1)] = -(Y-Y_hat)\n",
        "\n",
        "  for i in range(len(sizes)-1, 0, -1):\n",
        "    grads[\"dW\" + str(i)] = np.dot(grads[\"dA\" + str(i)], np.transpose(H[i-1]))\n",
        "    grads[\"db\" + str(i)] = grads[\"dA\" + str(i)] \n",
        "    if i>1 :\n",
        "      grads[\"dH\" + str(i-1)] = np.dot(np.transpose(parameters[\"W\" + str(i)]), grads[\"dA\" + str(i)])\n",
        "      grads[\"dA\" + str(i-1)] = np.multiply((grads[\"dH\" + str(i-1)]),derivative(A[i-1],activation))\n",
        "    \n",
        "  for i in range(1,len(sizes)):\n",
        "    new_grad[\"dW\" + str(i)] = grads[\"dW\" + str(i)] + prev_grad[\"dW\" + str(i)]\n",
        "    new_grad[\"db\" + str(i)] = grads[\"db\" + str(i)] + prev_grad[\"db\" + str(i)]\n",
        "    \n",
        "  return new_grad  "
      ]
    },
    {
      "cell_type": "code",
      "execution_count": null,
      "metadata": {
        "id": "fObXr05kRR42"
      },
      "outputs": [],
      "source": [
        "# Initializations\n",
        "\n",
        "# Data\n",
        "X_train = np.array(x_train.reshape(x_train.shape[0], 784,1))         # reshape 2-D data to 1-D\n",
        "X_test = np.array(x_test.reshape(x_test.shape[0], 784,1))            # reshape 2-D data to 1-D\n",
        "\n",
        "def normalize_data(x):                                               # normalize input data\n",
        "  x_norm = x.astype('float32')\n",
        "  x_norm = x_norm / 255.0  \n",
        "  return x_norm \n",
        "\n",
        "X_train = normalize_data(X_train)\n",
        "X_val = X_train[-6000:]                                             # validation set input\n",
        "X_train = X_train[0:54000]                                          # training set input\n",
        "X_test = normalize_data(X_test)                                     # test set input\n",
        "\n",
        "\n",
        "Y_train = np.zeros([len(y_train),10,1])\n",
        "Y_test = np.zeros([len(y_test),10,1])\n",
        "\n",
        "for i in range(len(y_train)):                                        # convert y from just a class number to an indicator vector (10x1)\n",
        "  y = np.zeros([10, 1])\n",
        "  y[y_train[i]] = 1.0\n",
        "  Y_train[i] = y\n",
        "\n",
        "Y_val = Y_train[-6000:]                                              # validation set output\n",
        "Y_train = Y_train[0:54000]                                           # training set output\n",
        "\n",
        "for i in range(len(y_test)):                                         # convert y from just a class number to an indicator vector (10x1)\n",
        "  y = np.zeros([10, 1])\n",
        "  y[y_test[i]] = 1.0\n",
        "  Y_test[i] = y                                                      # test set output"
      ]
    },
    {
      "cell_type": "code",
      "execution_count": null,
      "metadata": {
        "id": "2TgmxRdVRd_E"
      },
      "outputs": [],
      "source": [
        "def network_init(sizes,w_init):                            # function to initialize weights and biases\n",
        "  parameters = {}\n",
        "  for i in range(1, len(sizes)):\n",
        "    if w_init == \"xavier\" :\n",
        "      parameters[\"W\" + str(i)] = np.random.randn(sizes[i], sizes[i-1])*np.sqrt(2./(sizes[i] + sizes[i-1]))\n",
        "      parameters[\"b\" + str(i)] = np.zeros((sizes[i],1))\n",
        "    elif w_init == \"random\" :\n",
        "      parameters[\"W\" + str(i)] = 0.01*np.random.randn(sizes[i], sizes[i-1])\n",
        "      parameters[\"b\" + str(i)] = 0.01*np.random.randn(sizes[i],1)\n",
        "\n",
        "  return parameters  \n",
        "\n",
        "def update_init(sizes) :                                  # function to initialize update dictionary that changes the weights and biases\n",
        "  update = {}\n",
        "  for i in range(1,len(sizes)):\n",
        "   update[\"W\"+str(i)] = np.zeros((sizes[i],sizes[i-1]))\n",
        "   update[\"b\"+str(i)] = np.zeros((sizes[i],1))\n",
        "\n",
        "  return update"
      ]
    },
    {
      "cell_type": "code",
      "execution_count": null,
      "metadata": {
        "id": "nSAwrFdJRikN"
      },
      "outputs": [],
      "source": [
        "def val_loss(y,y_hat,loss_type):                                # function to compute the loss/error (both squared error and cross entropy)\n",
        "  l = 0\n",
        "  if (loss_type == \"squared_error\"):\n",
        "    l = np.sum((y-y_hat)**2)/(2*len(y))\n",
        "  elif (loss_type == \"cross_entropy\") :\n",
        "    l = -1*np.sum(np.multiply(y,np.log(y_hat)))/len(y)\n",
        "  return l \n",
        "\n",
        "def calcAccLoss(parameters,xArr,yArr,sizes,loss_type,activation,type=\"val\",regu=None):          #function to calculate accuracy and total loss of a model\n",
        "  acc=0.0\n",
        "  lossVal=0.0\n",
        "  for x,y in zip(xArr,yArr):\n",
        "    y_hat= feed_forward(x,parameters,sizes,activation)[0]\n",
        "    if y_hat.argmax()==y.argmax():\n",
        "      acc+=1\n",
        "    if type==\"val\":\n",
        "      lossVal+=val_loss(y,y_hat,loss_type)\n",
        "    elif type==\"trng\":\n",
        "      lossVal+=loss_compute(y,y_hat,parameters,loss_type,regu,sizes)\n",
        "  acc=acc/len(xArr)\n",
        "  return (acc,lossVal)"
      ]
    },
    {
      "cell_type": "code",
      "execution_count": null,
      "metadata": {
        "id": "wgTzpOl4RpNL"
      },
      "outputs": [],
      "source": [
        "#momentum Gradient descent\n",
        "def momentum_GD(X_train,Y_train,activation,n_epoch,sizes,lr,reg,w_init,loss_type,minibatch_size=1,log=False) :\n",
        "\n",
        "   steps=0                                                                                      #used to count number of updates to parameters\n",
        "   parameters = network_init(sizes,w_init)\n",
        "   update = update_init(sizes)\n",
        "   gamma = 0.9\n",
        "   for n in range(n_epoch):\n",
        "\n",
        "     for j in range(0, X_train.shape[0], minibatch_size):                                       #minibatch division \n",
        "       X_mini = X_train[j:j + minibatch_size]\n",
        "       Y_mini = Y_train[j:j + minibatch_size]\n",
        "       grads = grad_init(sizes)\n",
        "\n",
        "       for x,y in zip(X_mini,Y_mini):\n",
        "         y_hat,A,H = feed_forward(x,parameters,sizes,activation)                                 \n",
        "         grads = back_prop(x,y,y_hat,grads,A,H,parameters,sizes,loss_type,activation,reg)\n",
        "\n",
        "       for i in range(1,len(sizes)) :                                                           #updating the parameters\n",
        "         update[\"W\"+str(i)] = gamma*update[\"W\"+str(i)] + lr*grads[\"dW\"+str(i)]                  \n",
        "         update[\"b\"+str(i)] = gamma*update[\"b\"+str(i)] + lr*grads[\"db\"+str(i)]\n",
        "         parameters[\"W\"+str(i)] = (1-lr*reg)*parameters[\"W\"+str(i)] - update[\"W\"+str(i)]\n",
        "         parameters[\"b\"+str(i)] = (1-lr*reg)*parameters[\"b\"+str(i)] - update[\"b\"+str(i)]\n",
        "       \n",
        "       steps=steps+1\n",
        "       if steps==10000:                                                                         #log every 10000 updates\n",
        "        acc,lossTot=calcAccLoss(parameters,X_train,Y_train,sizes,loss_type,activation,type=\"trng\",regu=reg)          #calculating accuracy and loss\n",
        "        accVal,lossTotVal=calcAccLoss(parameters,X_val,Y_val,sizes,loss_type,activation)\n",
        "\n",
        "        wandb.log({\"Accuracy\":acc,\"Loss\":lossTot,\"Accuracy_val\":accVal,\"Loss_val\":lossTotVal,\"Epoch\":n,\"n_datatrain\":j + minibatch_size+n*54000}) #logging\n",
        "        steps=0\n",
        "  \n",
        "   return parameters        \n",
        "\n",
        "#Nesterov acceleracted GD\n",
        "def nesterov_accelerated_GD(X_train,Y_train,activation,n_epoch,sizes,lr,reg,w_init,loss_type,minibatch_size=1,log=False) :\n",
        "  steps=0\n",
        "  parameters = network_init(sizes,w_init)\n",
        "  update = update_init(sizes)\n",
        "  gamma = 0.9\n",
        "  for n in range(n_epoch):\n",
        "\n",
        "    for j in range(0, X_train.shape[0], minibatch_size):\n",
        "      X_mini = X_train[j:j + minibatch_size]\n",
        "      Y_mini = Y_train[j:j + minibatch_size]\n",
        "      \n",
        "\n",
        "      grads = grad_init(sizes)\n",
        "      for i in range(1,len(sizes)):                                                       #perform update before back propogation\n",
        "        update[\"W\"+str(i)] = gamma*update[\"W\"+str(i)]\n",
        "        update[\"b\"+str(i)] = gamma*update[\"b\"+str(i)]\n",
        "        parameters[\"W\"+str(i)] = (1-lr*reg)*parameters[\"W\"+str(i)] - update[\"W\"+str(i)]\n",
        "        parameters[\"b\"+str(i)] = (1-lr*reg)*parameters[\"b\"+str(i)] - update[\"b\"+str(i)]        \n",
        "\n",
        "      for x,y in zip(X_mini,Y_mini):\n",
        "        y_hat,A,H = feed_forward(x,parameters,sizes,activation)\n",
        "        grads = back_prop(x,y,y_hat,grads,A,H,parameters,sizes,loss_type,activation,reg)\n",
        "        \n",
        "      for k in range(1,len(sizes)) :\n",
        "        update[\"W\"+str(k)] = gamma*update[\"W\"+str(k)] + lr*grads[\"dW\"+str(k)]\n",
        "        update[\"b\"+str(k)] = gamma*update[\"b\"+str(k)] + lr*grads[\"db\"+str(k)]\n",
        "        parameters[\"W\"+str(k)] = (1-lr*reg)*parameters[\"W\"+str(k)] - update[\"W\"+str(k)]\n",
        "        parameters[\"b\"+str(k)] = (1-lr*reg)*parameters[\"b\"+str(k)] - update[\"b\"+str(k)]\n",
        "      steps=steps+1\n",
        "      if steps==10000:\n",
        "        if log:\n",
        "          acc,lossTot=calcAccLoss(parameters,X_train,Y_train,sizes,loss_type,activation,type=\"trng\",regu=reg)     \n",
        "          accVal,lossTotVal=calcAccLoss(parameters,X_val,Y_val,sizes,loss_type,activation)\n",
        "\n",
        "          wandb.log({\"Accuracy\":acc,\"Loss\":lossTot,\"Accuracy_val\":accVal,\"Loss_val\":lossTotVal,\"Epoch\":n,\"n_datatrain\":j + minibatch_size+n*54000})\n",
        "        steps=0   \n",
        "    \n",
        "  return parameters\n",
        "\n",
        "#stochastic GD\n",
        "def stochastic_GD(X_train,Y_train,activation,n_epoch,sizes,lr,reg,w_init,loss_type,minibatch_size=1,log=False) :\n",
        "\n",
        "  steps=0\n",
        "  parameters = network_init(sizes,w_init)\n",
        "  update = update_init(sizes)\n",
        "  gamma = 0.9\n",
        "  for n in range(n_epoch):\n",
        "\n",
        "    for j in range(0, X_train.shape[0], minibatch_size):                                        #minibatch division\n",
        "      X_mini = X_train[j:j + minibatch_size]\n",
        "      Y_mini = Y_train[j:j + minibatch_size]\n",
        "      \n",
        "      grads = grad_init(sizes)\n",
        "      for x,y in zip(X_mini,Y_mini):\n",
        "        y_hat,A,H = feed_forward(x,parameters,sizes,activation)\n",
        "        grads = back_prop(x,y,y_hat,grads,A,H,parameters,sizes,loss_type,activation,reg)\n",
        "        \n",
        "      for i in range(1,len(sizes)-1) :                                                          #updating the parameters\n",
        "        parameters[\"W\"+str(i)] = (1-lr*reg)*parameters[\"W\"+str(i)] - lr*grads[\"dW\"+str(i)]\n",
        "        parameters[\"b\"+str(i)] = (1-lr*reg)*parameters[\"b\"+str(i)] - lr*grads[\"db\"+str(i)]\n",
        "      steps=steps+1\n",
        "      if steps==10000:\n",
        "        if log:\n",
        "          acc,lossTot=calcAccLoss(parameters,X_train,Y_train,sizes,loss_type,activation,type=\"trng\",regu=reg)     \n",
        "          accVal,lossTotVal=calcAccLoss(parameters,X_val,Y_val,sizes,loss_type,activation)\n",
        "\n",
        "          wandb.log({\"Accuracy\":acc,\"Loss\":lossTot,\"Accuracy_val\":accVal,\"Loss_val\":lossTotVal,\"Epoch\":n,\"n_datatrain\":j + minibatch_size+n*54000})\n",
        "        steps=0   \n",
        "\n",
        "  return parameters        \n",
        "\n",
        "#rmsprop GD\n",
        "def rmsprop_GD(X_train,Y_train,activation,n_epoch,sizes,lr,reg,w_init,loss_type,minibatch_size=1,log=False) :\n",
        "  \n",
        "  steps=0\n",
        "  parameters = network_init(sizes,w_init)\n",
        "  update = update_init(sizes)\n",
        "  v = update_init(sizes)\n",
        "\n",
        "  betal = 0.99 #check this\n",
        "  eps = 1e-8\n",
        "\n",
        "  for n in range(n_epoch):\n",
        "\n",
        "    for j in range(0, X_train.shape[0], minibatch_size):\n",
        "      X_mini = X_train[j:j + minibatch_size]\n",
        "      Y_mini = Y_train[j:j + minibatch_size]\n",
        "      \n",
        "      grads = grad_init(sizes)\n",
        "      for x,y in zip(X_mini,Y_mini):\n",
        "        y_hat,A,H = feed_forward(x,parameters,sizes,activation)\n",
        "        grads = back_prop(x,y,y_hat,grads,A,H,parameters,sizes,loss_type,activation,reg)\n",
        "\n",
        "      for i in range(1,len(sizes)-1) :                                                                   #updating the parameters\n",
        "        v[\"W\"+str(i)] = betal*v[\"W\"+str(i)] + (1-betal)*grads[\"dW\"+str(i)]**2                            #v_w update  \n",
        "        v[\"b\"+str(i)] = betal*v[\"b\"+str(i)] + (1-betal)*grads[\"db\"+str(i)]**2                            #v_b update\n",
        "\n",
        "        update[\"W\"+str(i)]=lr*np.multiply(np.reciprocal(np.sqrt(v[\"W\"+str(i)]+eps)),grads[\"dW\"+str(i)])                 \n",
        "        update[\"b\"+str(i)]=lr*np.multiply(np.reciprocal(np.sqrt(v[\"b\"+str(i)]+eps)),grads[\"db\"+str(i)])\n",
        "        \n",
        "        parameters[\"W\"+str(i)] = (1-lr*reg)*parameters[\"W\"+str(i)] - update[\"W\"+str(i)]\n",
        "        parameters[\"b\"+str(i)] = (1-lr*reg)*parameters[\"b\"+str(i)] - update[\"b\"+str(i)]\n",
        "      steps=steps+1\n",
        "      if steps==10000:\n",
        "        if log:\n",
        "          acc,lossTot=calcAccLoss(parameters,X_train,Y_train,sizes,loss_type,activation,type=\"trng\",regu=reg)     \n",
        "          accVal,lossTotVal=calcAccLoss(parameters,X_val,Y_val,sizes,loss_type,activation)\n",
        "\n",
        "          wandb.log({\"Accuracy\":acc,\"Loss\":lossTot,\"Accuracy_val\":accVal,\"Loss_val\":lossTotVal,\"Epoch\":n,\"n_datatrain\":j + minibatch_size+n*54000})\n",
        "        steps=0   \n",
        "\n",
        "  return parameters          \n",
        "\n",
        "#Adam GD\n",
        "def adam_GD(X_train,Y_train,activation,n_epoch,sizes,lr,reg,w_init,loss_type,minibatch_size=1,log=False) :\n",
        "  steps=0\n",
        "  parameters = network_init(sizes,w_init)\n",
        "  update = update_init(sizes)\n",
        "  m = update_init(sizes)\n",
        "  v = update_init(sizes)\n",
        "\n",
        "  beta1 = 0.9\n",
        "  beta2 = 0.999\n",
        "  eps = 1e-8\n",
        "  for n in range(n_epoch):\n",
        "\n",
        "    for j in range(0, X_train.shape[0], minibatch_size):\n",
        "      X_mini = X_train[j:j + minibatch_size]\n",
        "      Y_mini = Y_train[j:j + minibatch_size]\n",
        "      \n",
        "      grads = grad_init(sizes)                                          \n",
        "      for x,y in zip(X_mini,Y_mini):\n",
        "        y_hat,A,H = feed_forward(x,parameters,sizes,activation)\n",
        "        grads = back_prop(x,y,y_hat,grads,A,H,parameters,sizes,loss_type,activation,reg)\n",
        "        \n",
        "      for i in range(1,len(sizes)-1) :                                                    #updating the parameters\n",
        "        m[\"W\"+str(i)] = beta1*m[\"W\"+str(i)] + (1-beta1)*grads[\"dW\"+str(i)]                #m_w update\n",
        "        m[\"b\"+str(i)] = beta1*m[\"b\"+str(i)] + (1-beta1)*grads[\"db\"+str(i)]                #m_b update\n",
        "\n",
        "        v[\"W\"+str(i)] = beta2*v[\"W\"+str(i)] + (1-beta2)*grads[\"dW\"+str(i)]**2             #v_w update    \n",
        "        v[\"b\"+str(i)] = beta2*v[\"b\"+str(i)] + (1-beta2)*grads[\"db\"+str(i)]**2             #v_b update\n",
        "\n",
        "        #cumulative average\n",
        "        m_w_hat = m[\"W\"+str(i)]/(1-np.power(beta1,n+1))                                   \n",
        "        m_b_hat = m[\"b\"+str(i)]/(1-np.power(beta1,n+1))\n",
        "        v_w_hat = v[\"W\"+str(i)]/(1-np.power(beta2,n+1))\n",
        "        v_b_hat = v[\"b\"+str(i)]/(1-np.power(beta2,n+1))\n",
        "\n",
        "\n",
        "        update[\"W\"+str(i)]=lr*np.multiply(np.reciprocal(np.sqrt(v_w_hat+eps)),m_w_hat)\n",
        "        update[\"b\"+str(i)]=lr*np.multiply(np.reciprocal(np.sqrt(v_b_hat+eps)),m_b_hat)\n",
        "\n",
        "        parameters[\"W\"+str(i)] = (1-lr*reg)*parameters[\"W\"+str(i)] - update[\"W\"+str(i)]\n",
        "        parameters[\"b\"+str(i)] = (1-lr*reg)*parameters[\"b\"+str(i)] - update[\"b\"+str(i)]\n",
        "      \n",
        "    \n",
        "      steps=steps+1\n",
        "      if steps==10000:\n",
        "        if log:\n",
        "          acc,lossTot=calcAccLoss(parameters,X_train,Y_train,sizes,loss_type,activation,type=\"trng\",regu=reg)     \n",
        "          accVal,lossTotVal=calcAccLoss(parameters,X_val,Y_val,sizes,loss_type,activation)\n",
        "\n",
        "          wandb.log({\"Accuracy\":acc,\"Loss\":lossTot,\"Accuracy_val\":accVal,\"Loss_val\":lossTotVal,\"Epoch\":n,\"n_datatrain\":j + minibatch_size+n*54000})\n",
        "        steps=0     \n",
        "\n",
        "  return parameters   \n",
        "\n",
        "\n",
        "#Nadam GD\n",
        "def nadam_GD(X_train,Y_train,activation,n_epoch,sizes,lr,reg,w_init,loss_type,minibatch_size=1,log=False) :\n",
        "  steps=0\n",
        "  parameters = network_init(sizes,w_init)\n",
        "  update = update_init(sizes)\n",
        "  m = update_init(sizes)\n",
        "  v = update_init(sizes)\n",
        "\n",
        "  beta1 = 0.9\n",
        "  beta2 = 0.999\n",
        "  eps = 1e-8\n",
        "\n",
        "  for n in range(n_epoch):\n",
        "\n",
        "    for j in range(0, X_train.shape[0], minibatch_size):\n",
        "      X_mini = X_train[j:j + minibatch_size]\n",
        "      Y_mini = Y_train[j:j + minibatch_size]\n",
        "      grads = grad_init(sizes)\n",
        "\n",
        "      for x,y in zip(X_mini,Y_mini):\n",
        "        y_hat,A,H = feed_forward(x,parameters,sizes,activation)\n",
        "        grads = back_prop(x,y,y_hat,grads,A,H,parameters,sizes,loss_type,activation,reg)\n",
        "\n",
        "      for i in range(1,len(sizes)-1) :                                                    #updating the parameters\n",
        "        m[\"W\"+str(i)] = beta1*m[\"W\"+str(i)] + (1-beta1)*grads[\"dW\"+str(i)]                #m_w update\n",
        "        m[\"b\"+str(i)] = beta1*m[\"b\"+str(i)] + (1-beta1)*grads[\"db\"+str(i)]                #m_b update\n",
        "\n",
        "        v[\"W\"+str(i)] = beta2*v[\"W\"+str(i)] + (1-beta2)*grads[\"dW\"+str(i)]**2             #v_w update    \n",
        "        v[\"b\"+str(i)] = beta2*v[\"b\"+str(i)] + (1-beta2)*grads[\"db\"+str(i)]**2             #v_b update\n",
        "\n",
        "        #cumulative average\n",
        "        m_w_hat = m[\"W\"+str(i)]/(1-np.power(beta1,n+1))                                   \n",
        "        m_b_hat = m[\"b\"+str(i)]/(1-np.power(beta1,n+1))\n",
        "        v_w_hat = v[\"W\"+str(i)]/(1-np.power(beta2,n+1))\n",
        "        v_b_hat = v[\"b\"+str(i)]/(1-np.power(beta2,n+1))\n",
        "\n",
        "\n",
        "        update[\"W\"+str(i)]=lr*np.multiply(np.reciprocal(np.sqrt(v_w_hat+eps)),(beta1*m_w_hat+(1-beta1)*grads[\"dW\"+str(i)]))*(1/(1-np.power(beta1,n+1)))\n",
        "        update[\"b\"+str(i)]=lr*np.multiply(np.reciprocal(np.sqrt(v_b_hat+eps)),(beta1*m_b_hat+(1-beta1)*grads[\"db\"+str(i)]))*(1/(1-np.power(beta1,n+1)))\n",
        "\n",
        "        parameters[\"W\"+str(i)] = (1-lr*reg)*parameters[\"W\"+str(i)] - update[\"W\"+str(i)]\n",
        "        parameters[\"b\"+str(i)] = (1-lr*reg)*parameters[\"b\"+str(i)] - update[\"b\"+str(i)]\n",
        "      steps=steps+1\n",
        "      if steps==10000:\n",
        "        if log:\n",
        "          acc,lossTot=calcAccLoss(parameters,X_train,Y_train,sizes,loss_type,activation,type=\"trng\",regu=reg)     \n",
        "          accVal,lossTotVal=calcAccLoss(parameters,X_val,Y_val,sizes,loss_type,activation)\n",
        "\n",
        "          wandb.log({\"Accuracy\":acc,\"Loss\":lossTot,\"Accuracy_val\":accVal,\"Loss_val\":lossTotVal,\"Epoch\":n,\"n_datatrain\":j + minibatch_size+n*54000})\n",
        "        steps=0   \n",
        "\n",
        "  return parameters   "
      ]
    },
    {
      "cell_type": "code",
      "execution_count": null,
      "metadata": {
        "id": "l18nteTQXfbX"
      },
      "outputs": [],
      "source": [
        "#function to select optimizer\n",
        "def do_GD(X_train,Y_train,optimizer,activation,hl_size,input_size,output_size,n_epoch,lr,reg,w_init,loss_type,minibatch_size=1,logging=False):\n",
        "  sizes = hl_size.copy() \n",
        "  sizes.insert(0,input_size)\n",
        "  sizes.append(output_size)\n",
        "\n",
        "  if optimizer==\"sgd\":\n",
        "    return(stochastic_GD(X_train,Y_train,activation,n_epoch,sizes,lr,reg,w_init,loss_type,minibatch_size=1,log=logging))\n",
        "  elif optimizer==\"momentum\":\n",
        "    return(momentum_GD(X_train,Y_train,activation,n_epoch,sizes,lr,reg,w_init,loss_type,minibatch_size=1,log=logging))\n",
        "  elif optimizer==\"nesterov\":\n",
        "    return(nesterov_accelerated_GD(X_train,Y_train,activation,n_epoch,sizes,lr,reg,w_init,loss_type,minibatch_size=1,log=logging))\n",
        "  elif optimizer==\"rmsprop\":\n",
        "    return(rmsprop_GD(X_train,Y_train,activation,n_epoch,sizes,lr,reg,w_init,loss_type,minibatch_size=1,log=logging))\n",
        "  elif optimizer==\"adam\":\n",
        "    return(adam_GD(X_train,Y_train,activation,n_epoch,sizes,lr,reg,w_init,loss_type,minibatch_size=1,log=logging))\n",
        "  elif optimizer==\"nadam\":\n",
        "    return(nadam_GD(X_train,Y_train,activation,n_epoch,sizes,lr,reg,w_init,loss_type,minibatch_size=1,log=logging))"
      ]
    },
    {
      "cell_type": "code",
      "execution_count": null,
      "metadata": {
        "id": "ufsNzRiSXgP5"
      },
      "outputs": [],
      "source": [
        "#training function to sweep with wandb\n",
        "def train():\n",
        "\n",
        "  hyperparameter_defaults=dict(\n",
        "      input_size = 784,                                       \n",
        "      output_size = 10,                                                    \n",
        "      n_epoch = 5,                                            \n",
        "      n_hiddenlayer = 3,                               \n",
        "      hl= [64,64,64],\n",
        "      reg = 0.0005,      \n",
        "      lr = 1e-3,                                              \n",
        "      optimizer = \"momentum\",                      \n",
        "      batch_size = 64,       \n",
        "      initialization = \"xavier\",      \n",
        "      loss_type = \"cross_entropy\" \n",
        "      \n",
        "  )\n",
        "\n",
        "  wandb.init(config=hyperparameter_defaults)\n",
        "\n",
        "  config=wandb.config\n",
        "  output_size=10\n",
        "  input_size = 784                                      \n",
        "  config.hl=[config.hl_size for i in range(config.n_hiddenlayer)]   #hidden layer sizes array creation\n",
        "  parameters=do_GD(X_train,Y_train,config.optimizer,config.activation,config.hl,config.input_size,config.output_size,config.n_epoch,config.lr,config.reg,config.initialization,config.loss_type,config.batch_size,logging=True)"
      ]
    },
    {
      "cell_type": "code",
      "execution_count": null,
      "metadata": {
        "id": "yNmMXGbJYRje"
      },
      "outputs": [],
      "source": [
        "def sweeper(sweep_config,proj_name):\n",
        "  sweep_id=wandb.sweep(sweep_config,project=proj_name)\n",
        "  wandb.agent(sweep_id,train,project=proj_name)"
      ]
    },
    {
      "cell_type": "code",
      "execution_count": null,
      "metadata": {
        "id": "rRieq7Z4Zu_n"
      },
      "outputs": [],
      "source": [
        "#sweep dictionary\n",
        "sweep_config={\n",
        "    'method':'bayes',\n",
        "    'metric':{\n",
        "        'name':'accuracy',\n",
        "        'goal':'maximize'},\n",
        "\n",
        "}\n",
        "\n",
        "parameters_dict={\n",
        "    'optimizer':{\n",
        "        'values':['nadam','sgd', 'momentum', 'nesterov', 'rmsprop', 'adam']\n",
        "    },\n",
        "    'lr':{\n",
        "        'values':[1e-3,1e-5]\n",
        "    },\n",
        "    'reg':{\n",
        "        'values':[5e-4,0,5e-1]\n",
        "    },\n",
        "    'n_hiddenlayer':{\n",
        "        'values':[3,4,5]\n",
        "    },\n",
        "    'hl_size':{\n",
        "      'values':[128,32,64]  \n",
        "    },\n",
        "    'batch_size':{\n",
        "        'values':[64,32,128]\n",
        "    },\n",
        "    'loss_type':{\n",
        "        'values':['cross_entropy','squared_error']\n",
        "    },\n",
        "    'initialization':{\n",
        "        'values':['xavier','random']\n",
        "    },\n",
        "    'activation':{\n",
        "        'values':['relu','sigmoid','tanh']\n",
        "    },\n",
        "    'n_epoch':{\n",
        "        'values':[5]\n",
        "    }\n",
        "}\n",
        "\n",
        "sweep_config['parameters']=parameters_dict"
      ]
    },
    {
      "cell_type": "code",
      "execution_count": null,
      "metadata": {
        "colab": {
          "base_uri": "https://localhost:8080/"
        },
        "id": "JBPSDXxaaG_2",
        "outputId": "51ba1ec3-897e-47f3-b472-bafd71921e69"
      },
      "outputs": [
        {
          "output_type": "stream",
          "name": "stdout",
          "text": [
            "Create sweep with ID: ag4ietor\n",
            "Sweep URL: https://wandb.ai/oe21d019/CS6910_ass1/sweeps/ag4ietor\n"
          ]
        }
      ],
      "source": [
        "sweep_id=wandb.sweep(sweep_config,project=proj_name)"
      ]
    },
    {
      "cell_type": "code",
      "execution_count": null,
      "metadata": {
        "colab": {
          "base_uri": "https://localhost:8080/",
          "height": 294
        },
        "id": "HcrqKC3WaP6o",
        "outputId": "7d0c46a8-118c-4f38-c968-286fb4909c98"
      },
      "outputs": [
        {
          "output_type": "stream",
          "name": "stderr",
          "text": [
            "\u001b[34m\u001b[1mwandb\u001b[0m: \u001b[33mWARNING\u001b[0m Calling wandb.login() after wandb.init() has no effect.\n"
          ]
        },
        {
          "output_type": "stream",
          "name": "stdout",
          "text": [
            "Create sweep with ID: 7hgrv867\n",
            "Sweep URL: https://wandb.ai/oe21d019/CS6910_ass1/sweeps/7hgrv867\n"
          ]
        },
        {
          "output_type": "stream",
          "name": "stderr",
          "text": [
            "\u001b[34m\u001b[1mwandb\u001b[0m: Agent Starting Run: z8i9ig1x with config:\n",
            "\u001b[34m\u001b[1mwandb\u001b[0m: \tactivation: tanh\n",
            "\u001b[34m\u001b[1mwandb\u001b[0m: \tbatch_size: 32\n",
            "\u001b[34m\u001b[1mwandb\u001b[0m: \thl_size: 32\n",
            "\u001b[34m\u001b[1mwandb\u001b[0m: \tinitialization: random\n",
            "\u001b[34m\u001b[1mwandb\u001b[0m: \tloss_type: squared_error\n",
            "\u001b[34m\u001b[1mwandb\u001b[0m: \tlr: 0.001\n",
            "\u001b[34m\u001b[1mwandb\u001b[0m: \tn_epoch: 5\n",
            "\u001b[34m\u001b[1mwandb\u001b[0m: \tn_hiddenlayer: 5\n",
            "\u001b[34m\u001b[1mwandb\u001b[0m: \toptimizer: momentum\n",
            "\u001b[34m\u001b[1mwandb\u001b[0m: \treg: 0.5\n"
          ]
        },
        {
          "output_type": "display_data",
          "data": {
            "text/html": [
              "\n",
              "                    Syncing run <strong><a href=\"https://wandb.ai/oe21d019/CS6910_ass1/runs/z8i9ig1x\" target=\"_blank\">fluent-sweep-1</a></strong> to <a href=\"https://wandb.ai/oe21d019/CS6910_ass1\" target=\"_blank\">Weights & Biases</a> (<a href=\"https://docs.wandb.com/integrations/jupyter.html\" target=\"_blank\">docs</a>).<br/>\n",
              "Sweep page: <a href=\"https://wandb.ai/oe21d019/CS6910_ass1/sweeps/7hgrv867\" target=\"_blank\">https://wandb.ai/oe21d019/CS6910_ass1/sweeps/7hgrv867</a><br/>\n",
              "\n",
              "                "
            ],
            "text/plain": [
              "<IPython.core.display.HTML object>"
            ]
          },
          "metadata": {}
        }
      ],
      "source": [
        "sweeper(sweep_config,proj_name)"
      ]
    },
    {
      "cell_type": "code",
      "execution_count": null,
      "metadata": {
        "id": "lMw3yvhcaSs7"
      },
      "outputs": [],
      "source": [
        "#confusion matrix and accuracy for test values\n",
        "from sklearn.metrics import confusion_matrix\n",
        "from sklearn.model_selection import train_test_split\n",
        "\n",
        "hyperparameter_final=dict(\n",
        "    input_size = 784,                                       \n",
        "    output_size = 10,                                                    \n",
        "    n_epoch = 5,                                            \n",
        "    n_hiddenlayer = 3,                               \n",
        "    hl= [128,128,128],\n",
        "    reg = 0,      \n",
        "    lr = 1e-5,                                              \n",
        "    optimizer = \"nadam\",                      \n",
        "    batch_size = 128,       \n",
        "    initialization = \"xavier\",      \n",
        "    loss_type = \"cross_entropy\",\n",
        "    activation=\"relu\" \n",
        "    \n",
        ")\n",
        "\n",
        "wandb.init(config=hyperparameter_final,project=proj_name)\n",
        "config=wandb.config\n",
        "parameters_test=do_GD(X_train,Y_train,config.optimizer,config.activation,config.hl,config.input_size,config.output_size,config.n_epoch,config.lr,config.reg,config.initialization,config.loss_type,config.batch_size,logging=False)\n",
        "\n",
        "sizes = config.hl.copy() \n",
        "sizes.insert(0,config.input_size)\n",
        "sizes.append(config.output_size)\n",
        "\n",
        "Y_prob=np.empty(np.shape(y_test))\n",
        "#finding y predicted\n",
        "for i,x in enumerate(X_test):\n",
        "  Y_prob[i]= (feed_forward(x,parameters_test,sizes,config.activation)[0]).argmax()\n",
        "\n",
        "accuracy=calcAccLoss(parameters_test,X_test,Y_test,sizes,None,config.activation)[0]\n",
        "\n",
        "wandb.log({\"conf_mat\" : wandb.plot.confusion_matrix(preds=Y_prob, y_true=y_test,class_names=class_list),\"Test Accuracy\": accuracy })"
      ]
    }
  ],
  "metadata": {
    "colab": {
      "collapsed_sections": [],
      "name": "Assignmentee20d064oe21d019.ipynb",
      "provenance": [],
      "include_colab_link": true
    },
    "kernelspec": {
      "display_name": "Python 3",
      "name": "python3"
    },
    "language_info": {
      "name": "python"
    }
  },
  "nbformat": 4,
  "nbformat_minor": 0
}