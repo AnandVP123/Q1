{
  "nbformat": 4,
  "nbformat_minor": 0,
  "metadata": {
    "colab": {
      "name": "Assignment2_partB.ipynb",
      "provenance": [],
      "collapsed_sections": [],
      "include_colab_link": true
    },
    "kernelspec": {
      "name": "python3",
      "display_name": "Python 3"
    },
    "language_info": {
      "name": "python"
    },
    "accelerator": "GPU",
    "widgets": {
      "application/vnd.jupyter.widget-state+json": {
        "e8f5ab78f07a485e9ba0dd5870d4974f": {
          "model_module": "@jupyter-widgets/controls",
          "model_name": "VBoxModel",
          "model_module_version": "1.5.0",
          "state": {
            "_dom_classes": [],
            "_model_module": "@jupyter-widgets/controls",
            "_model_module_version": "1.5.0",
            "_model_name": "VBoxModel",
            "_view_count": null,
            "_view_module": "@jupyter-widgets/controls",
            "_view_module_version": "1.5.0",
            "_view_name": "VBoxView",
            "box_style": "",
            "children": [
              "IPY_MODEL_6c372d31466c4a928d19829665ec237c",
              "IPY_MODEL_43716c20dd8845c0a11e4fc881da9a0d"
            ],
            "layout": "IPY_MODEL_6aae02626f1d43cdb6cacd7599436c49"
          }
        },
        "6c372d31466c4a928d19829665ec237c": {
          "model_module": "@jupyter-widgets/controls",
          "model_name": "LabelModel",
          "model_module_version": "1.5.0",
          "state": {
            "_dom_classes": [],
            "_model_module": "@jupyter-widgets/controls",
            "_model_module_version": "1.5.0",
            "_model_name": "LabelModel",
            "_view_count": null,
            "_view_module": "@jupyter-widgets/controls",
            "_view_module_version": "1.5.0",
            "_view_name": "LabelView",
            "description": "",
            "description_tooltip": null,
            "layout": "IPY_MODEL_9d96061705484cecbe9517d30becd316",
            "placeholder": "​",
            "style": "IPY_MODEL_4fb1a1a67b6d4e4991ee7c38a5382e16",
            "value": "0.008 MB of 0.008 MB uploaded (0.000 MB deduped)\r"
          }
        },
        "43716c20dd8845c0a11e4fc881da9a0d": {
          "model_module": "@jupyter-widgets/controls",
          "model_name": "FloatProgressModel",
          "model_module_version": "1.5.0",
          "state": {
            "_dom_classes": [],
            "_model_module": "@jupyter-widgets/controls",
            "_model_module_version": "1.5.0",
            "_model_name": "FloatProgressModel",
            "_view_count": null,
            "_view_module": "@jupyter-widgets/controls",
            "_view_module_version": "1.5.0",
            "_view_name": "ProgressView",
            "bar_style": "",
            "description": "",
            "description_tooltip": null,
            "layout": "IPY_MODEL_a52814c8ed5a48f686909392cac6bdc4",
            "max": 1,
            "min": 0,
            "orientation": "horizontal",
            "style": "IPY_MODEL_ccaba38c4d754b86a0a6e0ed408ba6b3",
            "value": 1
          }
        },
        "6aae02626f1d43cdb6cacd7599436c49": {
          "model_module": "@jupyter-widgets/base",
          "model_name": "LayoutModel",
          "model_module_version": "1.2.0",
          "state": {
            "_model_module": "@jupyter-widgets/base",
            "_model_module_version": "1.2.0",
            "_model_name": "LayoutModel",
            "_view_count": null,
            "_view_module": "@jupyter-widgets/base",
            "_view_module_version": "1.2.0",
            "_view_name": "LayoutView",
            "align_content": null,
            "align_items": null,
            "align_self": null,
            "border": null,
            "bottom": null,
            "display": null,
            "flex": null,
            "flex_flow": null,
            "grid_area": null,
            "grid_auto_columns": null,
            "grid_auto_flow": null,
            "grid_auto_rows": null,
            "grid_column": null,
            "grid_gap": null,
            "grid_row": null,
            "grid_template_areas": null,
            "grid_template_columns": null,
            "grid_template_rows": null,
            "height": null,
            "justify_content": null,
            "justify_items": null,
            "left": null,
            "margin": null,
            "max_height": null,
            "max_width": null,
            "min_height": null,
            "min_width": null,
            "object_fit": null,
            "object_position": null,
            "order": null,
            "overflow": null,
            "overflow_x": null,
            "overflow_y": null,
            "padding": null,
            "right": null,
            "top": null,
            "visibility": null,
            "width": null
          }
        },
        "9d96061705484cecbe9517d30becd316": {
          "model_module": "@jupyter-widgets/base",
          "model_name": "LayoutModel",
          "model_module_version": "1.2.0",
          "state": {
            "_model_module": "@jupyter-widgets/base",
            "_model_module_version": "1.2.0",
            "_model_name": "LayoutModel",
            "_view_count": null,
            "_view_module": "@jupyter-widgets/base",
            "_view_module_version": "1.2.0",
            "_view_name": "LayoutView",
            "align_content": null,
            "align_items": null,
            "align_self": null,
            "border": null,
            "bottom": null,
            "display": null,
            "flex": null,
            "flex_flow": null,
            "grid_area": null,
            "grid_auto_columns": null,
            "grid_auto_flow": null,
            "grid_auto_rows": null,
            "grid_column": null,
            "grid_gap": null,
            "grid_row": null,
            "grid_template_areas": null,
            "grid_template_columns": null,
            "grid_template_rows": null,
            "height": null,
            "justify_content": null,
            "justify_items": null,
            "left": null,
            "margin": null,
            "max_height": null,
            "max_width": null,
            "min_height": null,
            "min_width": null,
            "object_fit": null,
            "object_position": null,
            "order": null,
            "overflow": null,
            "overflow_x": null,
            "overflow_y": null,
            "padding": null,
            "right": null,
            "top": null,
            "visibility": null,
            "width": null
          }
        },
        "4fb1a1a67b6d4e4991ee7c38a5382e16": {
          "model_module": "@jupyter-widgets/controls",
          "model_name": "DescriptionStyleModel",
          "model_module_version": "1.5.0",
          "state": {
            "_model_module": "@jupyter-widgets/controls",
            "_model_module_version": "1.5.0",
            "_model_name": "DescriptionStyleModel",
            "_view_count": null,
            "_view_module": "@jupyter-widgets/base",
            "_view_module_version": "1.2.0",
            "_view_name": "StyleView",
            "description_width": ""
          }
        },
        "a52814c8ed5a48f686909392cac6bdc4": {
          "model_module": "@jupyter-widgets/base",
          "model_name": "LayoutModel",
          "model_module_version": "1.2.0",
          "state": {
            "_model_module": "@jupyter-widgets/base",
            "_model_module_version": "1.2.0",
            "_model_name": "LayoutModel",
            "_view_count": null,
            "_view_module": "@jupyter-widgets/base",
            "_view_module_version": "1.2.0",
            "_view_name": "LayoutView",
            "align_content": null,
            "align_items": null,
            "align_self": null,
            "border": null,
            "bottom": null,
            "display": null,
            "flex": null,
            "flex_flow": null,
            "grid_area": null,
            "grid_auto_columns": null,
            "grid_auto_flow": null,
            "grid_auto_rows": null,
            "grid_column": null,
            "grid_gap": null,
            "grid_row": null,
            "grid_template_areas": null,
            "grid_template_columns": null,
            "grid_template_rows": null,
            "height": null,
            "justify_content": null,
            "justify_items": null,
            "left": null,
            "margin": null,
            "max_height": null,
            "max_width": null,
            "min_height": null,
            "min_width": null,
            "object_fit": null,
            "object_position": null,
            "order": null,
            "overflow": null,
            "overflow_x": null,
            "overflow_y": null,
            "padding": null,
            "right": null,
            "top": null,
            "visibility": null,
            "width": null
          }
        },
        "ccaba38c4d754b86a0a6e0ed408ba6b3": {
          "model_module": "@jupyter-widgets/controls",
          "model_name": "ProgressStyleModel",
          "model_module_version": "1.5.0",
          "state": {
            "_model_module": "@jupyter-widgets/controls",
            "_model_module_version": "1.5.0",
            "_model_name": "ProgressStyleModel",
            "_view_count": null,
            "_view_module": "@jupyter-widgets/base",
            "_view_module_version": "1.2.0",
            "_view_name": "StyleView",
            "bar_color": null,
            "description_width": ""
          }
        }
      }
    }
  },
  "cells": [
    {
      "cell_type": "markdown",
      "metadata": {
        "id": "view-in-github",
        "colab_type": "text"
      },
      "source": [
        "<a href=\"https://colab.research.google.com/github/AnandVP123/q1/blob/main/Assignment2_partB.ipynb\" target=\"_parent\"><img src=\"https://colab.research.google.com/assets/colab-badge.svg\" alt=\"Open In Colab\"/></a>"
      ]
    },
    {
      "cell_type": "code",
      "execution_count": null,
      "metadata": {
        "id": "ofbWiQ3W1Cmv",
        "colab": {
          "base_uri": "https://localhost:8080/"
        },
        "outputId": "075339b8-462b-437e-a5eb-a1561b6a45d5"
      },
      "outputs": [
        {
          "output_type": "stream",
          "name": "stdout",
          "text": [
            "Collecting wandb\n",
            "  Downloading wandb-0.12.11-py2.py3-none-any.whl (1.7 MB)\n",
            "\u001b[?25l\r\u001b[K     |▏                               | 10 kB 21.3 MB/s eta 0:00:01\r\u001b[K     |▍                               | 20 kB 22.9 MB/s eta 0:00:01\r\u001b[K     |▋                               | 30 kB 25.0 MB/s eta 0:00:01\r\u001b[K     |▊                               | 40 kB 11.6 MB/s eta 0:00:01\r\u001b[K     |█                               | 51 kB 11.4 MB/s eta 0:00:01\r\u001b[K     |█▏                              | 61 kB 13.1 MB/s eta 0:00:01\r\u001b[K     |█▎                              | 71 kB 10.8 MB/s eta 0:00:01\r\u001b[K     |█▌                              | 81 kB 11.8 MB/s eta 0:00:01\r\u001b[K     |█▊                              | 92 kB 12.8 MB/s eta 0:00:01\r\u001b[K     |█▉                              | 102 kB 12.0 MB/s eta 0:00:01\r\u001b[K     |██                              | 112 kB 12.0 MB/s eta 0:00:01\r\u001b[K     |██▎                             | 122 kB 12.0 MB/s eta 0:00:01\r\u001b[K     |██▍                             | 133 kB 12.0 MB/s eta 0:00:01\r\u001b[K     |██▋                             | 143 kB 12.0 MB/s eta 0:00:01\r\u001b[K     |██▉                             | 153 kB 12.0 MB/s eta 0:00:01\r\u001b[K     |███                             | 163 kB 12.0 MB/s eta 0:00:01\r\u001b[K     |███▏                            | 174 kB 12.0 MB/s eta 0:00:01\r\u001b[K     |███▍                            | 184 kB 12.0 MB/s eta 0:00:01\r\u001b[K     |███▋                            | 194 kB 12.0 MB/s eta 0:00:01\r\u001b[K     |███▊                            | 204 kB 12.0 MB/s eta 0:00:01\r\u001b[K     |████                            | 215 kB 12.0 MB/s eta 0:00:01\r\u001b[K     |████▏                           | 225 kB 12.0 MB/s eta 0:00:01\r\u001b[K     |████▎                           | 235 kB 12.0 MB/s eta 0:00:01\r\u001b[K     |████▌                           | 245 kB 12.0 MB/s eta 0:00:01\r\u001b[K     |████▊                           | 256 kB 12.0 MB/s eta 0:00:01\r\u001b[K     |████▉                           | 266 kB 12.0 MB/s eta 0:00:01\r\u001b[K     |█████                           | 276 kB 12.0 MB/s eta 0:00:01\r\u001b[K     |█████▎                          | 286 kB 12.0 MB/s eta 0:00:01\r\u001b[K     |█████▌                          | 296 kB 12.0 MB/s eta 0:00:01\r\u001b[K     |█████▋                          | 307 kB 12.0 MB/s eta 0:00:01\r\u001b[K     |█████▉                          | 317 kB 12.0 MB/s eta 0:00:01\r\u001b[K     |██████                          | 327 kB 12.0 MB/s eta 0:00:01\r\u001b[K     |██████▏                         | 337 kB 12.0 MB/s eta 0:00:01\r\u001b[K     |██████▍                         | 348 kB 12.0 MB/s eta 0:00:01\r\u001b[K     |██████▋                         | 358 kB 12.0 MB/s eta 0:00:01\r\u001b[K     |██████▊                         | 368 kB 12.0 MB/s eta 0:00:01\r\u001b[K     |███████                         | 378 kB 12.0 MB/s eta 0:00:01\r\u001b[K     |███████▏                        | 389 kB 12.0 MB/s eta 0:00:01\r\u001b[K     |███████▎                        | 399 kB 12.0 MB/s eta 0:00:01\r\u001b[K     |███████▌                        | 409 kB 12.0 MB/s eta 0:00:01\r\u001b[K     |███████▊                        | 419 kB 12.0 MB/s eta 0:00:01\r\u001b[K     |███████▉                        | 430 kB 12.0 MB/s eta 0:00:01\r\u001b[K     |████████                        | 440 kB 12.0 MB/s eta 0:00:01\r\u001b[K     |████████▎                       | 450 kB 12.0 MB/s eta 0:00:01\r\u001b[K     |████████▌                       | 460 kB 12.0 MB/s eta 0:00:01\r\u001b[K     |████████▋                       | 471 kB 12.0 MB/s eta 0:00:01\r\u001b[K     |████████▉                       | 481 kB 12.0 MB/s eta 0:00:01\r\u001b[K     |█████████                       | 491 kB 12.0 MB/s eta 0:00:01\r\u001b[K     |█████████▏                      | 501 kB 12.0 MB/s eta 0:00:01\r\u001b[K     |█████████▍                      | 512 kB 12.0 MB/s eta 0:00:01\r\u001b[K     |█████████▋                      | 522 kB 12.0 MB/s eta 0:00:01\r\u001b[K     |█████████▊                      | 532 kB 12.0 MB/s eta 0:00:01\r\u001b[K     |██████████                      | 542 kB 12.0 MB/s eta 0:00:01\r\u001b[K     |██████████▏                     | 552 kB 12.0 MB/s eta 0:00:01\r\u001b[K     |██████████▎                     | 563 kB 12.0 MB/s eta 0:00:01\r\u001b[K     |██████████▌                     | 573 kB 12.0 MB/s eta 0:00:01\r\u001b[K     |██████████▊                     | 583 kB 12.0 MB/s eta 0:00:01\r\u001b[K     |███████████                     | 593 kB 12.0 MB/s eta 0:00:01\r\u001b[K     |███████████                     | 604 kB 12.0 MB/s eta 0:00:01\r\u001b[K     |███████████▎                    | 614 kB 12.0 MB/s eta 0:00:01\r\u001b[K     |███████████▌                    | 624 kB 12.0 MB/s eta 0:00:01\r\u001b[K     |███████████▋                    | 634 kB 12.0 MB/s eta 0:00:01\r\u001b[K     |███████████▉                    | 645 kB 12.0 MB/s eta 0:00:01\r\u001b[K     |████████████                    | 655 kB 12.0 MB/s eta 0:00:01\r\u001b[K     |████████████▏                   | 665 kB 12.0 MB/s eta 0:00:01\r\u001b[K     |████████████▍                   | 675 kB 12.0 MB/s eta 0:00:01\r\u001b[K     |████████████▋                   | 686 kB 12.0 MB/s eta 0:00:01\r\u001b[K     |████████████▊                   | 696 kB 12.0 MB/s eta 0:00:01\r\u001b[K     |█████████████                   | 706 kB 12.0 MB/s eta 0:00:01\r\u001b[K     |█████████████▏                  | 716 kB 12.0 MB/s eta 0:00:01\r\u001b[K     |█████████████▍                  | 727 kB 12.0 MB/s eta 0:00:01\r\u001b[K     |█████████████▌                  | 737 kB 12.0 MB/s eta 0:00:01\r\u001b[K     |█████████████▊                  | 747 kB 12.0 MB/s eta 0:00:01\r\u001b[K     |██████████████                  | 757 kB 12.0 MB/s eta 0:00:01\r\u001b[K     |██████████████                  | 768 kB 12.0 MB/s eta 0:00:01\r\u001b[K     |██████████████▎                 | 778 kB 12.0 MB/s eta 0:00:01\r\u001b[K     |██████████████▌                 | 788 kB 12.0 MB/s eta 0:00:01\r\u001b[K     |██████████████▋                 | 798 kB 12.0 MB/s eta 0:00:01\r\u001b[K     |██████████████▉                 | 808 kB 12.0 MB/s eta 0:00:01\r\u001b[K     |███████████████                 | 819 kB 12.0 MB/s eta 0:00:01\r\u001b[K     |███████████████▏                | 829 kB 12.0 MB/s eta 0:00:01\r\u001b[K     |███████████████▍                | 839 kB 12.0 MB/s eta 0:00:01\r\u001b[K     |███████████████▋                | 849 kB 12.0 MB/s eta 0:00:01\r\u001b[K     |███████████████▊                | 860 kB 12.0 MB/s eta 0:00:01\r\u001b[K     |████████████████                | 870 kB 12.0 MB/s eta 0:00:01\r\u001b[K     |████████████████▏               | 880 kB 12.0 MB/s eta 0:00:01\r\u001b[K     |████████████████▍               | 890 kB 12.0 MB/s eta 0:00:01\r\u001b[K     |████████████████▌               | 901 kB 12.0 MB/s eta 0:00:01\r\u001b[K     |████████████████▊               | 911 kB 12.0 MB/s eta 0:00:01\r\u001b[K     |█████████████████               | 921 kB 12.0 MB/s eta 0:00:01\r\u001b[K     |█████████████████               | 931 kB 12.0 MB/s eta 0:00:01\r\u001b[K     |█████████████████▎              | 942 kB 12.0 MB/s eta 0:00:01\r\u001b[K     |█████████████████▌              | 952 kB 12.0 MB/s eta 0:00:01\r\u001b[K     |█████████████████▋              | 962 kB 12.0 MB/s eta 0:00:01\r\u001b[K     |█████████████████▉              | 972 kB 12.0 MB/s eta 0:00:01\r\u001b[K     |██████████████████              | 983 kB 12.0 MB/s eta 0:00:01\r\u001b[K     |██████████████████▏             | 993 kB 12.0 MB/s eta 0:00:01\r\u001b[K     |██████████████████▍             | 1.0 MB 12.0 MB/s eta 0:00:01\r\u001b[K     |██████████████████▋             | 1.0 MB 12.0 MB/s eta 0:00:01\r\u001b[K     |██████████████████▉             | 1.0 MB 12.0 MB/s eta 0:00:01\r\u001b[K     |███████████████████             | 1.0 MB 12.0 MB/s eta 0:00:01\r\u001b[K     |███████████████████▏            | 1.0 MB 12.0 MB/s eta 0:00:01\r\u001b[K     |███████████████████▍            | 1.1 MB 12.0 MB/s eta 0:00:01\r\u001b[K     |███████████████████▌            | 1.1 MB 12.0 MB/s eta 0:00:01\r\u001b[K     |███████████████████▊            | 1.1 MB 12.0 MB/s eta 0:00:01\r\u001b[K     |████████████████████            | 1.1 MB 12.0 MB/s eta 0:00:01\r\u001b[K     |████████████████████            | 1.1 MB 12.0 MB/s eta 0:00:01\r\u001b[K     |████████████████████▎           | 1.1 MB 12.0 MB/s eta 0:00:01\r\u001b[K     |████████████████████▌           | 1.1 MB 12.0 MB/s eta 0:00:01\r\u001b[K     |████████████████████▋           | 1.1 MB 12.0 MB/s eta 0:00:01\r\u001b[K     |████████████████████▉           | 1.1 MB 12.0 MB/s eta 0:00:01\r\u001b[K     |█████████████████████           | 1.1 MB 12.0 MB/s eta 0:00:01\r\u001b[K     |█████████████████████▏          | 1.2 MB 12.0 MB/s eta 0:00:01\r\u001b[K     |█████████████████████▍          | 1.2 MB 12.0 MB/s eta 0:00:01\r\u001b[K     |█████████████████████▋          | 1.2 MB 12.0 MB/s eta 0:00:01\r\u001b[K     |█████████████████████▉          | 1.2 MB 12.0 MB/s eta 0:00:01\r\u001b[K     |██████████████████████          | 1.2 MB 12.0 MB/s eta 0:00:01\r\u001b[K     |██████████████████████▏         | 1.2 MB 12.0 MB/s eta 0:00:01\r\u001b[K     |██████████████████████▍         | 1.2 MB 12.0 MB/s eta 0:00:01\r\u001b[K     |██████████████████████▌         | 1.2 MB 12.0 MB/s eta 0:00:01\r\u001b[K     |██████████████████████▊         | 1.2 MB 12.0 MB/s eta 0:00:01\r\u001b[K     |███████████████████████         | 1.2 MB 12.0 MB/s eta 0:00:01\r\u001b[K     |███████████████████████         | 1.3 MB 12.0 MB/s eta 0:00:01\r\u001b[K     |███████████████████████▎        | 1.3 MB 12.0 MB/s eta 0:00:01\r\u001b[K     |███████████████████████▌        | 1.3 MB 12.0 MB/s eta 0:00:01\r\u001b[K     |███████████████████████▋        | 1.3 MB 12.0 MB/s eta 0:00:01\r\u001b[K     |███████████████████████▉        | 1.3 MB 12.0 MB/s eta 0:00:01\r\u001b[K     |████████████████████████        | 1.3 MB 12.0 MB/s eta 0:00:01\r\u001b[K     |████████████████████████▎       | 1.3 MB 12.0 MB/s eta 0:00:01\r\u001b[K     |████████████████████████▍       | 1.3 MB 12.0 MB/s eta 0:00:01\r\u001b[K     |████████████████████████▋       | 1.3 MB 12.0 MB/s eta 0:00:01\r\u001b[K     |████████████████████████▉       | 1.4 MB 12.0 MB/s eta 0:00:01\r\u001b[K     |█████████████████████████       | 1.4 MB 12.0 MB/s eta 0:00:01\r\u001b[K     |█████████████████████████▏      | 1.4 MB 12.0 MB/s eta 0:00:01\r\u001b[K     |█████████████████████████▍      | 1.4 MB 12.0 MB/s eta 0:00:01\r\u001b[K     |█████████████████████████▌      | 1.4 MB 12.0 MB/s eta 0:00:01\r\u001b[K     |█████████████████████████▊      | 1.4 MB 12.0 MB/s eta 0:00:01\r\u001b[K     |██████████████████████████      | 1.4 MB 12.0 MB/s eta 0:00:01\r\u001b[K     |██████████████████████████      | 1.4 MB 12.0 MB/s eta 0:00:01\r\u001b[K     |██████████████████████████▎     | 1.4 MB 12.0 MB/s eta 0:00:01\r\u001b[K     |██████████████████████████▌     | 1.4 MB 12.0 MB/s eta 0:00:01\r\u001b[K     |██████████████████████████▊     | 1.5 MB 12.0 MB/s eta 0:00:01\r\u001b[K     |██████████████████████████▉     | 1.5 MB 12.0 MB/s eta 0:00:01\r\u001b[K     |███████████████████████████     | 1.5 MB 12.0 MB/s eta 0:00:01\r\u001b[K     |███████████████████████████▎    | 1.5 MB 12.0 MB/s eta 0:00:01\r\u001b[K     |███████████████████████████▍    | 1.5 MB 12.0 MB/s eta 0:00:01\r\u001b[K     |███████████████████████████▋    | 1.5 MB 12.0 MB/s eta 0:00:01\r\u001b[K     |███████████████████████████▉    | 1.5 MB 12.0 MB/s eta 0:00:01\r\u001b[K     |████████████████████████████    | 1.5 MB 12.0 MB/s eta 0:00:01\r\u001b[K     |████████████████████████████▏   | 1.5 MB 12.0 MB/s eta 0:00:01\r\u001b[K     |████████████████████████████▍   | 1.5 MB 12.0 MB/s eta 0:00:01\r\u001b[K     |████████████████████████████▌   | 1.6 MB 12.0 MB/s eta 0:00:01\r\u001b[K     |████████████████████████████▊   | 1.6 MB 12.0 MB/s eta 0:00:01\r\u001b[K     |█████████████████████████████   | 1.6 MB 12.0 MB/s eta 0:00:01\r\u001b[K     |█████████████████████████████   | 1.6 MB 12.0 MB/s eta 0:00:01\r\u001b[K     |█████████████████████████████▎  | 1.6 MB 12.0 MB/s eta 0:00:01\r\u001b[K     |█████████████████████████████▌  | 1.6 MB 12.0 MB/s eta 0:00:01\r\u001b[K     |█████████████████████████████▊  | 1.6 MB 12.0 MB/s eta 0:00:01\r\u001b[K     |█████████████████████████████▉  | 1.6 MB 12.0 MB/s eta 0:00:01\r\u001b[K     |██████████████████████████████  | 1.6 MB 12.0 MB/s eta 0:00:01\r\u001b[K     |██████████████████████████████▎ | 1.6 MB 12.0 MB/s eta 0:00:01\r\u001b[K     |██████████████████████████████▍ | 1.7 MB 12.0 MB/s eta 0:00:01\r\u001b[K     |██████████████████████████████▋ | 1.7 MB 12.0 MB/s eta 0:00:01\r\u001b[K     |██████████████████████████████▉ | 1.7 MB 12.0 MB/s eta 0:00:01\r\u001b[K     |███████████████████████████████ | 1.7 MB 12.0 MB/s eta 0:00:01\r\u001b[K     |███████████████████████████████▏| 1.7 MB 12.0 MB/s eta 0:00:01\r\u001b[K     |███████████████████████████████▍| 1.7 MB 12.0 MB/s eta 0:00:01\r\u001b[K     |███████████████████████████████▌| 1.7 MB 12.0 MB/s eta 0:00:01\r\u001b[K     |███████████████████████████████▊| 1.7 MB 12.0 MB/s eta 0:00:01\r\u001b[K     |████████████████████████████████| 1.7 MB 12.0 MB/s eta 0:00:01\r\u001b[K     |████████████████████████████████| 1.7 MB 12.0 MB/s \n",
            "\u001b[?25hRequirement already satisfied: psutil>=5.0.0 in /usr/local/lib/python3.7/dist-packages (from wandb) (5.4.8)\n",
            "Collecting GitPython>=1.0.0\n",
            "  Downloading GitPython-3.1.27-py3-none-any.whl (181 kB)\n",
            "\u001b[K     |████████████████████████████████| 181 kB 49.1 MB/s \n",
            "\u001b[?25hRequirement already satisfied: promise<3,>=2.0 in /usr/local/lib/python3.7/dist-packages (from wandb) (2.3)\n",
            "Requirement already satisfied: Click!=8.0.0,>=7.0 in /usr/local/lib/python3.7/dist-packages (from wandb) (7.1.2)\n",
            "Requirement already satisfied: PyYAML in /usr/local/lib/python3.7/dist-packages (from wandb) (3.13)\n",
            "Requirement already satisfied: six>=1.13.0 in /usr/local/lib/python3.7/dist-packages (from wandb) (1.15.0)\n",
            "Collecting yaspin>=1.0.0\n",
            "  Downloading yaspin-2.1.0-py3-none-any.whl (18 kB)\n",
            "Requirement already satisfied: requests<3,>=2.0.0 in /usr/local/lib/python3.7/dist-packages (from wandb) (2.23.0)\n",
            "Collecting docker-pycreds>=0.4.0\n",
            "  Downloading docker_pycreds-0.4.0-py2.py3-none-any.whl (9.0 kB)\n",
            "Collecting sentry-sdk>=1.0.0\n",
            "  Downloading sentry_sdk-1.5.8-py2.py3-none-any.whl (144 kB)\n",
            "\u001b[K     |████████████████████████████████| 144 kB 50.9 MB/s \n",
            "\u001b[?25hRequirement already satisfied: protobuf>=3.12.0 in /usr/local/lib/python3.7/dist-packages (from wandb) (3.17.3)\n",
            "Collecting setproctitle\n",
            "  Downloading setproctitle-1.2.2-cp37-cp37m-manylinux1_x86_64.whl (36 kB)\n",
            "Requirement already satisfied: python-dateutil>=2.6.1 in /usr/local/lib/python3.7/dist-packages (from wandb) (2.8.2)\n",
            "Collecting shortuuid>=0.5.0\n",
            "  Downloading shortuuid-1.0.8-py3-none-any.whl (9.5 kB)\n",
            "Collecting pathtools\n",
            "  Downloading pathtools-0.1.2.tar.gz (11 kB)\n",
            "Collecting gitdb<5,>=4.0.1\n",
            "  Downloading gitdb-4.0.9-py3-none-any.whl (63 kB)\n",
            "\u001b[K     |████████████████████████████████| 63 kB 1.7 MB/s \n",
            "\u001b[?25hRequirement already satisfied: typing-extensions>=3.7.4.3 in /usr/local/lib/python3.7/dist-packages (from GitPython>=1.0.0->wandb) (3.10.0.2)\n",
            "Collecting smmap<6,>=3.0.1\n",
            "  Downloading smmap-5.0.0-py3-none-any.whl (24 kB)\n",
            "Requirement already satisfied: certifi>=2017.4.17 in /usr/local/lib/python3.7/dist-packages (from requests<3,>=2.0.0->wandb) (2021.10.8)\n",
            "Requirement already satisfied: urllib3!=1.25.0,!=1.25.1,<1.26,>=1.21.1 in /usr/local/lib/python3.7/dist-packages (from requests<3,>=2.0.0->wandb) (1.24.3)\n",
            "Requirement already satisfied: idna<3,>=2.5 in /usr/local/lib/python3.7/dist-packages (from requests<3,>=2.0.0->wandb) (2.10)\n",
            "Requirement already satisfied: chardet<4,>=3.0.2 in /usr/local/lib/python3.7/dist-packages (from requests<3,>=2.0.0->wandb) (3.0.4)\n",
            "Requirement already satisfied: termcolor<2.0.0,>=1.1.0 in /usr/local/lib/python3.7/dist-packages (from yaspin>=1.0.0->wandb) (1.1.0)\n",
            "Building wheels for collected packages: pathtools\n",
            "  Building wheel for pathtools (setup.py) ... \u001b[?25l\u001b[?25hdone\n",
            "  Created wheel for pathtools: filename=pathtools-0.1.2-py3-none-any.whl size=8806 sha256=258916c69b749db42ec9c55fef6589ff67f030d5494aacd1ee56db5c3eff0287\n",
            "  Stored in directory: /root/.cache/pip/wheels/3e/31/09/fa59cef12cdcfecc627b3d24273699f390e71828921b2cbba2\n",
            "Successfully built pathtools\n",
            "Installing collected packages: smmap, gitdb, yaspin, shortuuid, setproctitle, sentry-sdk, pathtools, GitPython, docker-pycreds, wandb\n",
            "Successfully installed GitPython-3.1.27 docker-pycreds-0.4.0 gitdb-4.0.9 pathtools-0.1.2 sentry-sdk-1.5.8 setproctitle-1.2.2 shortuuid-1.0.8 smmap-5.0.0 wandb-0.12.11 yaspin-2.1.0\n"
          ]
        }
      ],
      "source": [
        "!pip install wandb"
      ]
    },
    {
      "cell_type": "code",
      "source": [
        "# importing libraries\n",
        "\n",
        "import os\n",
        "import keras\n",
        "import numpy as np\n",
        "import pandas as pd\n",
        "import tensorflow as tf\n",
        "from tensorflow.keras import layers,models\n",
        "from tensorflow.keras.layers import Conv2D, MaxPooling2D, Dropout, Dense, Flatten, Activation , BatchNormalization\n",
        "from tensorflow.keras.preprocessing.image import ImageDataGenerator\n",
        "import matplotlib.pyplot as plt\n",
        "import cv2\n",
        "import wandb\n",
        "from wandb.keras import WandbCallback"
      ],
      "metadata": {
        "id": "JWfZyIrh1MlM"
      },
      "execution_count": null,
      "outputs": []
    },
    {
      "cell_type": "code",
      "source": [
        "# importing architectures/pretrained models vgg16, IV3,Iresnetv2,resnet50  from keras\n",
        "from keras.applications.vgg16 import VGG16\n",
        "from keras.applications.inception_v3 import InceptionV3\n",
        "from keras.applications.inception_resnet_v2 import InceptionResNetV2\n",
        "#from keras_applications.resnet import ResNet50\n",
        "from keras.applications.xception import Xception"
      ],
      "metadata": {
        "id": "UtDuKGU81ZXr"
      },
      "execution_count": null,
      "outputs": []
    },
    {
      "cell_type": "code",
      "source": [
        "#zip_path = \"drive/MyDrive/nature_12K.zip\"\n",
        "#!cp \"{zip_path}\" .\n",
        "#!unzip -q nature_12K.zip\n",
        "#!rm nature_12K.zip\n",
        "%%capture\n",
        "!curl -SL https://storage.googleapis.com/wandb_datasets/nature_12K.zip > nature_12K.zip\n",
        "!unzip nature_12K.zip\n",
        "train_dir='inaturalist_12K/train/'\n",
        "test_dir='inaturalist_12K/val/'\n",
        "categories=['Amphibia','Animalia','Arachnida','Aves','Fungi','Insecta','Mammalia','Mollusca','Plantae','Reptilia']"
      ],
      "metadata": {
        "id": "zZa3HaS71dJL"
      },
      "execution_count": null,
      "outputs": []
    },
    {
      "cell_type": "code",
      "source": [
        "#We have only used only 'inceptionresnetv2','Xception'as it was taking lot of runtime\n",
        "\n",
        "sweep_config = {'name': 'sweep5b',  'method': 'grid',\n",
        "  'parameters': {       \n",
        "        'fc_size':{\n",
        "            'values':[128]\n",
        "        },\n",
        "        'batchnorm':{\n",
        "            'values':['yes']\n",
        "        },\n",
        "        'augmentation':{\n",
        "            'values':['yes']   \n",
        "        },\n",
        "        'droprate':{\n",
        "            'values':[0.4]\n",
        "        },\n",
        "        'pre_train':{\n",
        "            'values':['inceptionresnetv2','Xception']#we have only used two as iot was taking lot of time\n",
        "        }          \n",
        "    }\n",
        "}\n",
        "\n",
        "#default configuration\n",
        "config_defaults={'fc_size':128,'batchnorm':'yes','augmentation':'yes','droprate':0.4, 'pre_train':'inceptionresnetv2'}"
      ],
      "metadata": {
        "id": "LX_T0pVh1m9i"
      },
      "execution_count": null,
      "outputs": []
    },
    {
      "cell_type": "code",
      "source": [
        "\n",
        "def PreTrain():\n",
        "  wandb.init(config=config_defaults)\n",
        "  configs=wandb.config\n",
        "  configs=config_defaults\n",
        "  batchnorm=configs['batchnorm']\n",
        "  droprate=configs['droprate']\n",
        "  augmentation=configs['augmentation']\n",
        "  fc_size=configs['fc_size']\n",
        "  pre_train = configs['pre_train']\n",
        "  wandb.run.name='model_'+pre_train+'_fc_2_size_'+str(fc_size)+'_droprate_'+str(droprate)+ str('_bn_' if batchnorm=='yes' else '') +str('augment' if augmentation=='yes' else '')\n",
        "  if pre_train == 'inceptionv3':\n",
        "    imageheight = 299\n",
        "    imagewidth = 299\n",
        "    basemod = InceptionV3(include_top=False, weights='imagenet',input_shape=(imageheight, imagewidth,3))\n",
        "  if pre_train == 'inceptionresnetv2':\n",
        "    imageheight = 299\n",
        "    imagewidth = 299\n",
        "    basemod = InceptionResNetV2(include_top=False, weights='imagenet',input_shape=(imageheight, imagewidth,3))\n",
        "  if pre_train == 'resnet50':\n",
        "    imageheight = 224\n",
        "    imagewidth = 224\n",
        "    basemod = ResNet50(include_top=False, weights='imagenet',input_shape=(imageheight, imagewidth,3))\n",
        "  if pre_train == 'Xception':\n",
        "    imageheight = 299\n",
        "    imagewidth = 299\n",
        "    basemod = Xception(include_top=False, weights='imagenet',input_shape=(imageheight, imagewidth,3))  \n",
        "  for layers in basemod.layers:\n",
        "    layers.trainable = False\n",
        "  model = keras.Sequential([tf.keras.Input(shape=(imageheight, imagewidth,3,)),basemod,Flatten(),Dense(fc_size,activation='relu') ])\n",
        "  if batchnorm == 'yes':\n",
        "    model.add(BatchNormalization())\n",
        "  model.add(Dropout(droprate))\n",
        "  model.add(Dense(fc_size, activation='relu'))\n",
        "  model.add(Dropout(droprate))\n",
        "  model.add(Dense(10 ,activation='softmax'))\n",
        "\n",
        " "
      ],
      "metadata": {
        "id": "Ok10A7wH1yiT"
      },
      "execution_count": null,
      "outputs": []
    },
    {
      "cell_type": "code",
      "source": [
        " #data generators \n",
        "  augment= ImageDataGenerator(rotation_range=30, width_shift_range=0.2, height_shift_range=0.2, zoom_range=0.2, horizontal_flip=True, rescale=1.0 / 255, validation_split=0.1, dtype=tf.float32,)\n",
        "  datagen = ImageDataGenerator(rescale=1.0 / 255, validation_split=0.1, dtype=tf.float32,)\n",
        "  train_set = datagen.flow_from_directory(train_dir, target_size=(imageheight, imagewidth), batch_size=32, color_mode='rgb',class_mode='sparse',shuffle=True, subset='training',seed=123,)\n",
        "  aug_set = augment.flow_from_directory(train_dir,target_size=(imageheight, imagewidth),batch_size=32,color_mode='rgb',class_mode='sparse',shuffle=True,subset='training',seed=123,)\n",
        "  val_set = datagen.flow_from_directory(train_dir,target_size=(imageheight, imagewidth),color_mode='rgb',class_mode='sparse',shuffle=True,subset='validation',seed=123,)\n",
        "  model.compile(optimizer=tf.keras.optimizers.Adam(),loss=[tf.keras.losses.SparseCategoricalCrossentropy()],metrics=['accuracy'],)\n",
        "  if augmentation =='no' :\n",
        "    hist=model.fit(train_set,epochs=10,validation_data=val_set,callbacks=[WandbCallback()]) \n",
        "       else:\n",
        "    hist=model.fit(aug_set,epochs=10,validation_data=val_set,callbacks=[WandbCallback()])\n",
        "     val_acc=max(hist.history['val_accuracy'])\n",
        "  params={'batch_norm':batchnorm,'augmentation':augmentation,'dropout':droprate,'pre_trained_model':pre_train,'val_acc':val_acc}\n",
        "  wandb.log(params)"
      ],
      "metadata": {
        "id": "r66IO8HTOosI"
      },
      "execution_count": null,
      "outputs": []
    },
    {
      "cell_type": "code",
      "source": [
        "#sweep\n",
        "sweep_id=wandb.sweep(sweep_config,entity='ee20d064oe21d019',project='dlassignment2_partb')\n",
        "wandb.agent(sweep_id, PreTrain)"
      ],
      "metadata": {
        "id": "kA4b7T4o12ps",
        "colab": {
          "base_uri": "https://localhost:8080/",
          "height": 364,
          "referenced_widgets": [
            "e8f5ab78f07a485e9ba0dd5870d4974f",
            "6c372d31466c4a928d19829665ec237c",
            "43716c20dd8845c0a11e4fc881da9a0d",
            "6aae02626f1d43cdb6cacd7599436c49",
            "9d96061705484cecbe9517d30becd316",
            "4fb1a1a67b6d4e4991ee7c38a5382e16",
            "a52814c8ed5a48f686909392cac6bdc4",
            "ccaba38c4d754b86a0a6e0ed408ba6b3"
          ]
        },
        "outputId": "f429a954-09c7-4528-8654-5ba777358065"
      },
      "execution_count": null,
      "outputs": [
        {
          "output_type": "stream",
          "name": "stdout",
          "text": [
            "Create sweep with ID: nyf5v5c3\n",
            "Sweep URL: https://wandb.ai/ee20d064oe21d019/dlassignment2_partb/sweeps/nyf5v5c3\n"
          ]
        },
        {
          "output_type": "stream",
          "name": "stderr",
          "text": [
            "\u001b[34m\u001b[1mwandb\u001b[0m: Agent Starting Run: mi8ddo2y with config:\n",
            "\u001b[34m\u001b[1mwandb\u001b[0m: \taugmentation: yes\n",
            "\u001b[34m\u001b[1mwandb\u001b[0m: \tbatchnorm: yes\n",
            "\u001b[34m\u001b[1mwandb\u001b[0m: \tdroprate: 0.4\n",
            "\u001b[34m\u001b[1mwandb\u001b[0m: \tfc_size: 128\n",
            "\u001b[34m\u001b[1mwandb\u001b[0m: \tpre_train: inceptionresnetv2\n"
          ]
        },
        {
          "output_type": "display_data",
          "data": {
            "text/plain": [
              "<IPython.core.display.HTML object>"
            ],
            "text/html": [
              "Tracking run with wandb version 0.12.11"
            ]
          },
          "metadata": {}
        },
        {
          "output_type": "display_data",
          "data": {
            "text/plain": [
              "<IPython.core.display.HTML object>"
            ],
            "text/html": [
              "Run data is saved locally in <code>/content/wandb/run-20220403_153422-mi8ddo2y</code>"
            ]
          },
          "metadata": {}
        },
        {
          "output_type": "display_data",
          "data": {
            "text/plain": [
              "<IPython.core.display.HTML object>"
            ],
            "text/html": [
              "Syncing run <strong><a href=\"https://wandb.ai/ee20d064oe21d019/dlassignment2_partb/runs/mi8ddo2y\" target=\"_blank\">flowing-sweep-1</a></strong> to <a href=\"https://wandb.ai/ee20d064oe21d019/dlassignment2_partb\" target=\"_blank\">Weights & Biases</a> (<a href=\"https://wandb.me/run\" target=\"_blank\">docs</a>)<br/>Sweep page:  <a href=\"https://wandb.ai/ee20d064oe21d019/dlassignment2_partb/sweeps/nyf5v5c3\" target=\"_blank\">https://wandb.ai/ee20d064oe21d019/dlassignment2_partb/sweeps/nyf5v5c3</a>"
            ]
          },
          "metadata": {}
        },
        {
          "output_type": "stream",
          "name": "stdout",
          "text": [
            "\n"
          ]
        },
        {
          "output_type": "display_data",
          "data": {
            "text/plain": [
              "<IPython.core.display.HTML object>"
            ],
            "text/html": [
              "Waiting for W&B process to finish... <strong style=\"color:red\">(failed 1).</strong> Press Control-C to abort syncing."
            ]
          },
          "metadata": {}
        },
        {
          "output_type": "display_data",
          "data": {
            "text/plain": [
              "VBox(children=(Label(value='0.001 MB of 0.001 MB uploaded (0.000 MB deduped)\\r'), FloatProgress(value=1.0, max…"
            ],
            "application/vnd.jupyter.widget-view+json": {
              "version_major": 2,
              "version_minor": 0,
              "model_id": "e8f5ab78f07a485e9ba0dd5870d4974f"
            }
          },
          "metadata": {}
        },
        {
          "output_type": "display_data",
          "data": {
            "text/plain": [
              "<IPython.core.display.HTML object>"
            ],
            "text/html": [
              "Synced <strong style=\"color:#cdcd00\">flowing-sweep-1</strong>: <a href=\"https://wandb.ai/ee20d064oe21d019/dlassignment2_partb/runs/mi8ddo2y\" target=\"_blank\">https://wandb.ai/ee20d064oe21d019/dlassignment2_partb/runs/mi8ddo2y</a><br/>Synced 4 W&B file(s), 0 media file(s), 0 artifact file(s) and 0 other file(s)"
            ]
          },
          "metadata": {}
        },
        {
          "output_type": "display_data",
          "data": {
            "text/plain": [
              "<IPython.core.display.HTML object>"
            ],
            "text/html": [
              "Find logs at: <code>./wandb/run-20220403_153422-mi8ddo2y/logs</code>"
            ]
          },
          "metadata": {}
        },
        {
          "output_type": "stream",
          "name": "stderr",
          "text": [
            "Run mi8ddo2y errored: NameError(\"name 'InceptionResNetV2' is not defined\")\n",
            "\u001b[34m\u001b[1mwandb\u001b[0m: \u001b[32m\u001b[41mERROR\u001b[0m Run mi8ddo2y errored: NameError(\"name 'InceptionResNetV2' is not defined\")\n",
            "\u001b[34m\u001b[1mwandb\u001b[0m: Ctrl + C detected. Stopping sweep.\n"
          ]
        }
      ]
    },
    {
      "cell_type": "code",
      "source": [
        "#Trial run with config defaults\n",
        "PreTrain()"
      ],
      "metadata": {
        "id": "xKd2ys4B2Hta",
        "colab": {
          "base_uri": "https://localhost:8080/",
          "height": 187
        },
        "outputId": "e395cff3-e9f6-4152-9d42-93ab15cc79c6"
      },
      "execution_count": null,
      "outputs": [
        {
          "output_type": "error",
          "ename": "NameError",
          "evalue": "ignored",
          "traceback": [
            "\u001b[0;31m---------------------------------------------------------------------------\u001b[0m",
            "\u001b[0;31mNameError\u001b[0m                                 Traceback (most recent call last)",
            "\u001b[0;32m<ipython-input-1-dee0a50be0c4>\u001b[0m in \u001b[0;36m<module>\u001b[0;34m()\u001b[0m\n\u001b[1;32m      1\u001b[0m \u001b[0;31m#Trial run with config defaults\u001b[0m\u001b[0;34m\u001b[0m\u001b[0;34m\u001b[0m\u001b[0;34m\u001b[0m\u001b[0m\n\u001b[0;32m----> 2\u001b[0;31m \u001b[0mPreTrain\u001b[0m\u001b[0;34m(\u001b[0m\u001b[0;34m)\u001b[0m\u001b[0;34m\u001b[0m\u001b[0;34m\u001b[0m\u001b[0m\n\u001b[0m",
            "\u001b[0;31mNameError\u001b[0m: name 'PreTrain' is not defined"
          ]
        }
      ]
    },
    {
      "cell_type": "code",
      "source": [
        "# Best configuration model\n",
        "  configs=config_defaults\n",
        "  batchnorm=configs['batchnorm']\n",
        "  droprate=configs['droprate']\n",
        "  augmentation=configs['augmentation']\n",
        "  fc_size=configs['fc_size']\n",
        "  pre_train = configs['pre_train']\n",
        "  wandb.run.name='model_'+pre_train+'_fc_2_size_'+str(fc_size)+'_droprate_'+str(droprate)+ str('_bn_' if batchnorm=='yes' else '') +str('augment' if augmentation=='yes' else '')\n",
        "#Xception\n",
        "  if pre_train == 'Xception':\n",
        "    imageheight = 299\n",
        "    imagewidth = 299\n",
        "    basemod = Xception(include_top=False, weights='imagenet',input_shape=(imageheight, imagewidth,3)) \n",
        "#inceptionresnetv2\n",
        "  if pre_train == 'inceptionresnetv2':\n",
        "    imageheight = 299\n",
        "    imagewidth = 299\n",
        "    basemod = InceptionResNetV2(include_top=False, weights='imagenet',input_shape=(imageheight, imagewidth,3))\n",
        "#resnet50\n",
        "  if pre_train == 'resnet50':\n",
        "    imageheight = 224\n",
        "    imagewidth = 224\n",
        "    basemod = ResNet50(include_top=False, weights='imagenet',input_shape=(imageheight, imagewidth,3))\n",
        "    #inceptionv3\n",
        "  if pre_train == 'inceptionv3':\n",
        "    imageheight = 299\n",
        "    imagewidth = 299\n",
        "    basemod = InceptionV3(include_top=False, weights='imagenet',input_shape=(imageheight, imagewidth,3))\n",
        "  for layers in basemod.layers:\n",
        "    layers.trainable = False\n",
        "  model = keras.Sequential([\n",
        "      tf.keras.Input(shape=(imageheight, imagewidth,3,)),\n",
        "      basemod,\n",
        "      Flatten(),\n",
        "      Dense(fc_size,activation='relu'),\n",
        "  ])\n",
        "  if batchnorm == 'yes':\n",
        "    model.add(BatchNormalization())\n",
        "  model.add(Dropout(droprate))\n",
        "  model.add(Dense(fc_size, activation='relu'))\n",
        "  model.add(Dropout(droprate))\n",
        "  model.add(Dense(10 ,activation='softmax'))\n",
        "    #datagen and compile\n",
        "  augment= ImageDataGenerator(rotation_range=30, width_shift_range=0.2, height_shift_range=0.2, zoom_range=0.2, horizontal_flip=True, rescale=1.0 / 255, validation_split=0.1, dtype=tf.float32,)\n",
        "  datagen = ImageDataGenerator(rescale=1.0 / 255, validation_split=0.1, dtype=tf.float32,)\n",
        "  train_set = datagen.flow_from_directory(train_dir,target_size=(imageheight, imagewidth),batch_size=32, color_mode='rgb',class_mode='sparse',shuffle=True,subset='training',seed=123,)\n",
        "  aug_set = augment.flow_from_directory(train_dir,target_size=(imageheight, imagewidth),batch_size=32,color_mode='rgb',class_mode='sparse',shuffle=True,subset='training',seed=123,)\n",
        "  val_set = datagen.flow_from_directory(train_dir,target_size=(imageheight, imagewidth),color_mode='rgb',class_mode='sparse',shuffle=True,subset='validation',seed=123,)\n",
        "  model.compile(optimizer=tf.keras.optimizers.Adam(),loss=[tf.keras.losses.SparseCategoricalCrossentropy()],metrics=['accuracy'],)\n",
        "  if augmentation =='no' :\n",
        "    hist=model.fit(train_set,epochs=10,validation_data=val_set,callbacks=[WandbCallback()])  \n",
        "  else:\n",
        "    hist=model.fit(aug_set,epochs=10,validation_data=val_set,callbacks=[WandbCallback()])"
      ],
      "metadata": {
        "id": "6jzI94Ih2Qw7",
        "colab": {
          "base_uri": "https://localhost:8080/",
          "height": 133
        },
        "outputId": "54314cf5-2b47-4897-e1ee-5531c111d852"
      },
      "execution_count": null,
      "outputs": [
        {
          "output_type": "error",
          "ename": "IndentationError",
          "evalue": "ignored",
          "traceback": [
            "\u001b[0;36m  File \u001b[0;32m\"<ipython-input-1-17064cc36797>\"\u001b[0;36m, line \u001b[0;32m2\u001b[0m\n\u001b[0;31m    configs=config_defaults\u001b[0m\n\u001b[0m    ^\u001b[0m\n\u001b[0;31mIndentationError\u001b[0m\u001b[0;31m:\u001b[0m unexpected indent\n"
          ]
        }
      ]
    },
    {
      "cell_type": "code",
      "source": [
        "#Genration of data\n",
        "test_datagen = ImageDataGenerator(rescale=1.0 / 255,)\n",
        "test_set = test_datagen.flow_from_directory(test_dir,target_size=(imageheight, imagewidth),color_mode='rgb',class_mode='sparse',shuffle=True,seed=123,)\n",
        "#Model evaluation\n",
        "model.evaluate(test_set)"
      ],
      "metadata": {
        "id": "1xxkTFxW2V3K"
      },
      "execution_count": null,
      "outputs": []
    }
  ]
}